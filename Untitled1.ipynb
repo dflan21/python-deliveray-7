{
  "nbformat": 4,
  "nbformat_minor": 0,
  "metadata": {
    "colab": {
      "provenance": []
    },
    "kernelspec": {
      "name": "python3",
      "display_name": "Python 3"
    },
    "language_info": {
      "name": "python"
    }
  },
  "cells": [
    {
      "cell_type": "code",
      "execution_count": 10,
      "metadata": {
        "colab": {
          "base_uri": "https://localhost:8080/"
        },
        "id": "kUzyzwzz1VsZ",
        "outputId": "76c330e8-9d2e-4673-8fde-e479739f61b0"
      },
      "outputs": [
        {
          "output_type": "stream",
          "name": "stdout",
          "text": [
            "enter an integer between 5 and 15 10\n",
            "the elements of the array are [17, 36, 43, 35, 11, 47, 13, 36, 11, 47]\n",
            "sum of the array is  296\n"
          ]
        }
      ],
      "source": [
        "x = int(input(\"enter an integer between 5 and 15 \"))\n",
        "\n",
        "if x < 5:\n",
        "  print (\"please try again and choose an integer between 5 and 15\")\n",
        "\n",
        "elif x > 15:\n",
        "  print (\"please try again and choose an integer between 5 and 15\")\n",
        "\n",
        "else: \n",
        "\n",
        "  import random \n",
        "  randomList = []\n",
        "\n",
        "  for i in range(0,x):\n",
        "    y = random.randint(10,50)\n",
        "    randomList.append(y)\n",
        "\n",
        "  print(\"the elements of the array are\", randomList) \n",
        "\n",
        "  ans = sum(randomList)\n",
        "\n",
        "  print('sum of the array is ', ans)\n",
        "\n",
        "\n",
        "\n"
      ]
    }
  ]
}